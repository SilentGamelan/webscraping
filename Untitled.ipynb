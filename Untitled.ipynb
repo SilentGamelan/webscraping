{
 "cells": [
  {
   "cell_type": "code",
   "execution_count": 2,
   "metadata": {},
   "outputs": [
    {
     "name": "stdout",
     "output_type": "stream",
     "text": [
      "<h1>An Interesting Title</h1>\n",
      "------\n",
      "\n",
      "------\n",
      "<h1>An Interesting Title</h1>\n"
     ]
    }
   ],
   "source": [
    "from urllib.request import urlopen\n",
    "from bs4 import BeautifulSoup\n",
    "\n",
    "html = urlopen('http://www.pythonscraping.com/pages/page1.html')\n",
    "\n",
    "# create the BeautifulSoup object and read the target into the object\n",
    "# \n",
    "bs = BeautifulSoup(html.read(), 'html.parser')\n",
    "\n",
    "# NB - this will only return the first instance of an h1 element\n",
    "print(bs.h1)\n",
    "\n",
    "# It's possible to access the file object directly without .read()\n",
    "bsf = BeautifulSoup(html, 'html.parser')\n",
    "print(\"------\")\n",
    "print(bsf)\n",
    "print(\"------\")\n",
    "print(bs.h2)\n"
   ]
  },
  {
   "cell_type": "code",
   "execution_count": null,
   "metadata": {},
   "outputs": [],
   "source": []
  },
  {
   "cell_type": "code",
   "execution_count": null,
   "metadata": {},
   "outputs": [],
   "source": []
  }
 ],
 "metadata": {
  "kernelspec": {
   "display_name": "Python 3",
   "language": "python",
   "name": "python3"
  },
  "language_info": {
   "codemirror_mode": {
    "name": "ipython",
    "version": 3
   },
   "file_extension": ".py",
   "mimetype": "text/x-python",
   "name": "python",
   "nbconvert_exporter": "python",
   "pygments_lexer": "ipython3",
   "version": "3.6.9"
  }
 },
 "nbformat": 4,
 "nbformat_minor": 4
}
